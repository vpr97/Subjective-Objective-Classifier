{
  "nbformat": 4,
  "nbformat_minor": 0,
  "metadata": {
    "colab": {
      "provenance": [],
      "collapsed_sections": []
    },
    "kernelspec": {
      "name": "python3",
      "display_name": "Python 3"
    },
    "language_info": {
      "name": "python"
    }
  },
  "cells": [
    {
      "cell_type": "markdown",
      "source": [
        "To run this file upload the data.tsv file into a folder \"data\"(i.e data/data.tsv) and run the code block in order."
      ],
      "metadata": {
        "id": "qDTZe2-lRwf7"
      }
    },
    {
      "cell_type": "code",
      "source": [
        "import sys\n",
        "import torch\n",
        "import torchtext\n",
        "from torchtext import data\n",
        "import torch.optim as optim\n",
        "import argparse\n",
        "import os\n",
        "import pandas as pd\n",
        "from sklearn.model_selection import train_test_split\n",
        "import torch.nn as nn\n",
        "import numpy as np\n",
        "import matplotlib.pyplot as plt\n",
        "import spacy\n",
        "from tabulate import tabulate"
      ],
      "metadata": {
        "id": "Hd5o4SUt-7Q0"
      },
      "execution_count": 1,
      "outputs": []
    },
    {
      "cell_type": "code",
      "source": [
        "# TextDataset is Described in Section 3.3 of Assignment 2\n",
        "class TextDataset(torch.utils.data.Dataset):\n",
        "    def __init__(self, vocab, split=\"train\"):\n",
        "        data_path = \"data\"\n",
        "        df = pd.read_csv(os.path.join(data_path, f\"{split}.tsv\"), sep=\"\\t\")\n",
        "\n",
        "        # X: torch.tensor (maxlen, batch_size), padded indices\n",
        "        # Y: torch.tensor of len N\n",
        "        X, Y = [], []\n",
        "        V = len(vocab.vectors)\n",
        "        for i, row in df.iterrows():\n",
        "            L = row[\"text\"].split()\n",
        "            X.append(torch.tensor([vocab.stoi.get(w, V-1) for w in L]))  # Use the last word in the vocab as the \"out-of-vocabulary\" token\n",
        "            Y.append(row.label)\n",
        "        self.X = X \n",
        "        self.Y = torch.tensor(Y)\n",
        "        \n",
        "    def __len__(self):\n",
        "        return len(self.X)\n",
        "\n",
        "    def __getitem__(self, idx):\n",
        "        return self.X[idx], self.Y[idx]"
      ],
      "metadata": {
        "id": "VgEB0hEh-87D"
      },
      "execution_count": 2,
      "outputs": []
    },
    {
      "cell_type": "code",
      "source": [
        "# my_collate_function prepares batches\n",
        "# it also pads each batch with zeroes.\n",
        "\n",
        "def my_collate_function(batch, device):\n",
        "    # Handle the padding here\n",
        "    # batch is approximately: [dataset[i] for i in range(0, batch_size)]\n",
        "    # Since the dataset[i]'s contents is defined in the __getitem__() above, this collate function \n",
        "    # should be set correspondingly.\n",
        "    # Also: collate_function just takes one argument. To pass in additional arguments (e.g., device), \n",
        "    # we need to wrap up an anonymous function (using lambda below)\n",
        "    batch_x, batch_y = [], []\n",
        "    max_len = 0\n",
        "    for x,y in batch:\n",
        "        batch_y.append(y)\n",
        "        max_len = max(max_len, len(x))\n",
        "    for x,y in batch:\n",
        "        x_p = torch.concat(\n",
        "            [x, torch.zeros(max_len - len(x))]\n",
        "        )\n",
        "        batch_x.append(x_p)\n",
        "    return torch.stack(batch_x).t().int().to(device), torch.tensor(batch_y).to(device)"
      ],
      "metadata": {
        "id": "ibd7ThJP_A6C"
      },
      "execution_count": 3,
      "outputs": []
    },
    {
      "cell_type": "code",
      "source": [
        "def createDatasets(df):\n",
        "    train, test = train_test_split(df[['text', 'label']], test_size=0.2, random_state=0, stratify=df[['label']])\n",
        "\n",
        "    trainFinal, val = train_test_split(train, test_size=0.2, random_state=0, stratify=train['label'])\n",
        "\n",
        "    #writing to train, val and test tsv\n",
        "    trainFinal.to_csv('data/train.tsv', sep=\"\\t\", index=False)\n",
        "    test.to_csv('data/test.tsv', sep=\"\\t\", index=False)\n",
        "    val.to_csv('data/validation.tsv', sep=\"\\t\", index=False)\n",
        "\n",
        "    #creating overfit dataset and writing to tsv\n",
        "    s0 = trainFinal.label[df.label.eq(0)].sample(25).index\n",
        "    s1 = trainFinal.label[df.label.eq(1)].sample(25).index \n",
        "\n",
        "    overfit = trainFinal.loc[s0.union(s1)]\n",
        "    overfit.to_csv('data/overfit.tsv', sep=\"\\t\", index=False)\n"
      ],
      "metadata": {
        "id": "Xjh34OgKEi8h"
      },
      "execution_count": 4,
      "outputs": []
    },
    {
      "cell_type": "code",
      "source": [
        "def print_closest_cosine_words(glove, vec, n=5):\n",
        "    cosine_words = []\n",
        "    dists = torch.cosine_similarity(vec, glove.vectors) \n",
        "    lst = sorted(enumerate(dists.numpy()), key=lambda x: x[1], reverse=True)\n",
        "    for idx, difference in lst[1:n+1]:   \n",
        "        cosine_words.append(glove.itos[idx] + \" - %5.2f\" % difference)\n",
        "    return cosine_words"
      ],
      "metadata": {
        "id": "ANlIEnqSNxqX"
      },
      "execution_count": 5,
      "outputs": []
    },
    {
      "cell_type": "code",
      "execution_count": 6,
      "metadata": {
        "id": "BXKBdLeM-2tF"
      },
      "outputs": [],
      "source": [
        "def main(batch_size):\n",
        "    #   fix seed\n",
        "    torch.manual_seed(2)\n",
        "\n",
        "    device = torch.device('cuda' if torch.cuda.is_available() else 'cpu')\n",
        "    #read data.tsv and splitting to train (64%), test (20%), val (16%)\n",
        "    df = pd.read_csv(\"data/data.tsv\", sep='\\t')\n",
        "    createDatasets(df)\n",
        "\n",
        "    ### 3.3 Processing of the data ###\n",
        "    # 3.3.1\n",
        "    # The first time you run this will download a 862MB size file to .vector_cache/glove.6B.zip\n",
        "    glove = torchtext.vocab.GloVe(name=\"6B\",dim=100) # embedding size = 100\n",
        "\n",
        "    # 3.3.2\n",
        "\n",
        "    train_dataset = TextDataset(glove, \"train\")\n",
        "    val_dataset = TextDataset(glove, \"validation\")\n",
        "    test_dataset = TextDataset(glove, \"test\")\n",
        "    overfit_dataset = TextDataset(glove, \"overfit\")\n",
        "        \n",
        "    # 3.3.3\n",
        "    train_dataloader = torch.utils.data.DataLoader(\n",
        "        dataset=train_dataset, \n",
        "        batch_size=batch_size, \n",
        "        shuffle=False, \n",
        "        collate_fn=lambda batch: my_collate_function(batch, device))\n",
        "    \n",
        "    validation_dataloader = torch.utils.data.DataLoader(\n",
        "        dataset=val_dataset, \n",
        "        batch_size=batch_size, \n",
        "        shuffle=False, \n",
        "        collate_fn=lambda batch: my_collate_function(batch, device))\n",
        "    \n",
        "    test_dataloader = torch.utils.data.DataLoader(\n",
        "        dataset=test_dataset,\n",
        "        batch_size=batch_size,\n",
        "        shuffle=False,\n",
        "        collate_fn=lambda batch: my_collate_function(batch, device))\n",
        "    \n",
        "    overfit_dataloader = torch.utils.data.DataLoader(\n",
        "        dataset=overfit_dataset,\n",
        "        batch_size=batch_size,\n",
        "        shuffle=False,\n",
        "        collate_fn=lambda batch: my_collate_function(batch, device))\n",
        "    \n",
        "    predictionBaselineModel = trainBaselineModel(train_dataloader, validation_dataloader,test_dataloader, overfit_dataloader, glove, 100, batch_size, 50, 0.001)\n",
        "    torch.save(predictionBaselineModel, 'model_{}.pt'.format(\"Baseline\"))\n",
        "    for name, param in predictionBaselineModel.named_parameters():\n",
        "      mydata = [\n",
        "          [name, [i for i in print_closest_cosine_words(glove, param.data, n=20)]]\n",
        "      ]\n",
        "      # create header\n",
        "      head = [\"word\", \"Cosine Similarity\"]\n",
        "\n",
        "      # display table\n",
        "      temp = tabulate(mydata, headers=head, tablefmt=\"grid\")\n",
        "      print(temp)\n",
        "\n",
        "    # Instantiate your model(s) and train them and so on \n",
        "    # We suggest parameterizing the model - k1, n1, k2, n2, and other hyperparameters\n",
        "    # so that it is easier to experiment with"
      ]
    },
    {
      "cell_type": "code",
      "source": [
        "class Baseline(nn.Module):\n",
        "  def __init__(self, embedding_dim, vocab):\n",
        "    super(Baseline, self).__init__()\n",
        "    self.embedding = nn.Embedding.from_pretrained(vocab.vectors)\n",
        "    self.fc = nn.Linear(embedding_dim, 1)\n",
        "\n",
        "  def forward(self, x, lengths=None):\n",
        "    #x has shape [sentence length, batch size]\n",
        "    embedded = self.embedding(x)\n",
        "    average = embedded.mean(0) # [sent len, batch size, emb dim]\n",
        "    output = self.fc(average)\n",
        "    output = torch.sigmoid(output)\n",
        "    return output"
      ],
      "metadata": {
        "id": "GD3bgvRSAFCm"
      },
      "execution_count": 7,
      "outputs": []
    },
    {
      "cell_type": "code",
      "source": [
        "def evaluate(model, dataLoader, criterion, batch_size):\n",
        "    model.eval()\n",
        "    with torch.no_grad():\n",
        "        test_loss = 0.0\n",
        "        total_corr = 0\n",
        "        p =0\n",
        "        for index,context in iter(dataLoader):\n",
        "            index = index.type(torch.long)\n",
        "            context = context.type(torch.float)\n",
        "            logits = model(index)\n",
        "            loss = criterion(logits.squeeze(), context)\n",
        "            test_loss += float(loss)/batch_size\n",
        "            p += 1\n",
        "            corr = (logits > 0.5).squeeze().long() == context\n",
        "            total_corr += int(corr.sum())\n",
        "    return test_loss, total_corr, p"
      ],
      "metadata": {
        "id": "sIUVjpv2F-8S"
      },
      "execution_count": 8,
      "outputs": []
    },
    {
      "cell_type": "code",
      "source": [
        "def trainBaselineModel(train_dataloader, validation_dataloader, test_dataloader, overfit_dataloader, vocab, embedding_size, batch_size, epochs, lr):\n",
        "    model = Baseline(100, vocab)\n",
        "    criterion = torch.nn.BCEWithLogitsLoss()\n",
        "    opt_func = torch.optim.Adam\n",
        "    optimizer = opt_func(model.parameters(), lr)       \n",
        "\n",
        "    train_loss_list = []\n",
        "    val_loss_list = []\n",
        "    test_loss_list = []\n",
        "    overfit_loss_list = []\n",
        "    train_acc = []\n",
        "    val_acc = []\n",
        "    test_acc = []\n",
        "    overfit_acc = []\n",
        "\n",
        "    #train model using train set\n",
        "    iters = np.arange(0,epochs)\n",
        "    for epoch in range(epochs):\n",
        "        train_loss= 0.0\n",
        "        total_corr = 0\n",
        "        model.train()\n",
        "        n = 0\n",
        "        for index,context in iter(train_dataloader): \n",
        "            index = index.type(torch.long)\n",
        "            context = context.type(torch.float)\n",
        "            logits = model(index)\n",
        "            loss = criterion(logits.squeeze(), context)\n",
        "            loss.backward()\n",
        "            optimizer.step()\n",
        "            optimizer.zero_grad()\n",
        "            train_loss = train_loss + float(loss)/batch_size\n",
        "            n += 1\n",
        "            corr = (logits > 0.5).squeeze().long() == context\n",
        "            total_corr += int(corr.sum())\n",
        "        train_loss_list.append(train_loss/n)\n",
        "        train_acc.append(float(total_corr) / len(train_dataloader.dataset))\n",
        "\n",
        "        #evaluate validation set\n",
        "        val_loss, total_corr, p = evaluate(model, validation_dataloader, criterion, batch_size)\n",
        "        val_loss_list.append(val_loss/p) \n",
        "        val_acc.append(float(total_corr) / len(validation_dataloader.dataset))\n",
        "\n",
        "        #evaluate test set\n",
        "        test_loss, total_corr, p = evaluate(model, test_dataloader, criterion, batch_size)\n",
        "        test_loss_list.append(test_loss/p) \n",
        "        test_acc.append(float(total_corr) / len(test_dataloader.dataset))\n",
        "\n",
        "        #evaluate overfit set\n",
        "        overfit_loss, total_corr, p = evaluate(model, overfit_dataloader, criterion, batch_size)\n",
        "        overfit_loss_list.append(overfit_loss/p) \n",
        "        overfit_acc.append(float(total_corr) / len(overfit_dataloader.dataset))\n",
        "\n",
        "    print(\"Validation Accuracy: \" + str(val_acc[-1]), \"Validation Loss: \" + str(val_loss_list[-1]))\n",
        "\n",
        "    print(\"Test Accuracy: \" + str(test_acc[-1]), \"Test Loss: \" + str(test_loss_list[-1]))\n",
        "    print(\"Overfit Accuracy: \" + str(overfit_acc[-1]), \"Overfit Loss: \" + str(overfit_loss_list[-1]))\n",
        "\n",
        "    #plot loss curve\n",
        "    plt.title(\"Loss Curve\")\n",
        "    plt.plot(iters, train_loss_list, label=\"Train\")\n",
        "    plt.plot(iters, val_loss_list, label=\"Validation\")\n",
        "    plt.plot(iters, overfit_loss_list, label=\"Overfit\")\n",
        "    plt.plot(iters, test_loss_list, label=\"Test\")\n",
        "    plt.xlabel(\"Epochs\")\n",
        "    plt.ylabel(\"Loss\")\n",
        "    plt.legend()\n",
        "    plt.show()\n",
        "\n",
        "    #plot Accuracy curve\n",
        "    plt.title(\"Accuracy Curve\")\n",
        "    plt.plot(iters, train_acc, label=\"Train accuracy\")\n",
        "    plt.plot(iters, val_acc, label=\"Validation accuracy\")\n",
        "    plt.plot(iters, overfit_acc, label=\"Overfit accuracy\")\n",
        "    plt.plot(iters, test_acc, label=\"Test accuracy\")\n",
        "    plt.xlabel(\"Epochs\")\n",
        "    plt.ylabel(\"Accuracy\")\n",
        "    plt.legend()\n",
        "    plt.show()\n",
        "    \n",
        "    return model"
      ],
      "metadata": {
        "id": "SNzui3XHaZfN"
      },
      "execution_count": 9,
      "outputs": []
    },
    {
      "cell_type": "code",
      "source": [
        "if __name__ == '__main__':\n",
        "    main(10)"
      ],
      "metadata": {
        "colab": {
          "base_uri": "https://localhost:8080/",
          "height": 950
        },
        "id": "kqi2bNOD_LXg",
        "outputId": "a397805f-87e7-45b6-c565-47f4c20ee599"
      },
      "execution_count": 10,
      "outputs": [
        {
          "output_type": "stream",
          "name": "stderr",
          "text": [
            ".vector_cache/glove.6B.zip: 862MB [02:39, 5.42MB/s]                           \n",
            "100%|█████████▉| 399999/400000 [00:12<00:00, 31609.39it/s]\n"
          ]
        },
        {
          "output_type": "stream",
          "name": "stdout",
          "text": [
            "Validation Accuracy: 0.875625 Validation Loss: 0.0575978124514222\n",
            "Test Accuracy: 0.879 Test Loss: 0.057703558400273296\n",
            "Overfit Accuracy: 0.92 Overfit Loss: 0.05674492120742798\n"
          ]
        },
        {
          "output_type": "display_data",
          "data": {
            "text/plain": [
              "<Figure size 432x288 with 1 Axes>"
            ],
            "image/png": "[encoded data removed]"
          },
          "metadata": {
            "needs_background": "light"
          }
        },
        {
          "output_type": "display_data",
          "data": {
            "text/plain": [
              "<Figure size 432x288 with 1 Axes>"
            ],
            "image/png": "[encoded data removed]"
          },
          "metadata": {
            "needs_background": "light"
          }
        },
        {
          "output_type": "stream",
          "name": "stdout",
          "text": [
            "+------------------+-------------------------------------------------------------------------------------------------------------------------------------------------------------------------------------------------------------------------------------------------------------------------------------------------------------------------------------------------------------------------------------------------------+\n",
            "| word             | Cosine Similarity                                                                                                                                                                                                                                                                                                                                                                                     |\n",
            "+==================+=======================================================================================================================================================================================================================================================================================================================================================================================================+\n",
            "| embedding.weight | ['qualcomm -  1.00', 'casserole -  1.00', 'boas -  1.00', 'homeworld -  1.00', 'edsel -  1.00', 'clipboard -  1.00', 'noone -  1.00', 'sahwa -  1.00', 'plausibly -  1.00', 'slimane -  1.00', 'minimising -  1.00', 'curvilinear -  1.00', '8.31 -  1.00', 'hallucinogens -  1.00', '125-mile -  1.00', 'gawked -  1.00', 'banting -  1.00', 'teletoon -  1.00', '4:17 -  1.00', 'gordeyev -  1.00'] |\n",
            "+------------------+-------------------------------------------------------------------------------------------------------------------------------------------------------------------------------------------------------------------------------------------------------------------------------------------------------------------------------------------------------------------------------------------------------+\n",
            "+-----------+--------------------------------------------------------------------------------------------------------------------------------------------------------------------------------------------------------------------------------------------------------------------------------------------------------------------------------------------------------------------------------------------------------------------------------------------+\n",
            "| word      | Cosine Similarity                                                                                                                                                                                                                                                                                                                                                                                                                          |\n",
            "+===========+============================================================================================================================================================================================================================================================================================================================================================================================================================================+\n",
            "| fc.weight | ['simplistic -  0.57', 'pleasing -  0.56', 'insipid -  0.55', 'flattering -  0.54', 'watchable -  0.54', 'cheesy -  0.53', 'cartoonish -  0.52', 'campy -  0.52', 'cartoony -  0.52', 'engrossing -  0.52', 'realistic -  0.52', 'disquieting -  0.52', 'laughable -  0.52', 'verisimilitude -  0.51', 'underwhelming -  0.51', 'portentous -  0.51', 'informative -  0.51', 'suspenseful -  0.50', 'gimmicky -  0.50', 'nuanced -  0.50'] |\n",
            "+-----------+--------------------------------------------------------------------------------------------------------------------------------------------------------------------------------------------------------------------------------------------------------------------------------------------------------------------------------------------------------------------------------------------------------------------------------------------+\n",
            "+---------+------------------------------------------------------------------------------------------------------------------------------------------------------------------------------------------------------------------------------------------------------------------------------------------------------------------------------------------------------------------------------------------------------------------+\n",
            "| word    | Cosine Similarity                                                                                                                                                                                                                                                                                                                                                                                                |\n",
            "+=========+==================================================================================================================================================================================================================================================================================================================================================================================================================+\n",
            "| fc.bias | ['asphalt -  0.38', 'dodecahedral -  0.38', 'bosnia-herzegovina -  0.38', 'eros -  0.38', 'one-2-one -  0.37', 'trnopolje -  0.36', 'ramazzotti -  0.36', 'positive-sense -  0.36', 'kukors -  0.35', 'bockarie -  0.35', 'helipad -  0.35', 'sqlite -  0.35', 'half-mile -  0.35', 'zovko -  0.35', 'jedinak -  0.35', 'db2 -  0.35', 'eprlf -  0.35', 'ekulama -  0.35', 'isenhour -  0.34', 'sunita -  0.34'] |\n",
            "+---------+------------------------------------------------------------------------------------------------------------------------------------------------------------------------------------------------------------------------------------------------------------------------------------------------------------------------------------------------------------------------------------------------------------------+\n"
          ]
        }
      ]
    },
    {
      "cell_type": "markdown",
      "source": [
        "Provide the training loss and accuracy plot for the overfit data in your Report.\n",
        "\n",
        "We can see above the overfit plot for training and accuracy. The loss is less when compared to other plots and the accuracy is also high for the overfit data."
      ],
      "metadata": {
        "id": "Y7-pu2Hu3EwI"
      }
    }
  ]
}
