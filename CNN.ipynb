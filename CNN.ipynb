{
  "cells": [
    {
      "cell_type": "markdown",
      "source": [
        "To run this file upload the data.tsv file into a folder \"data\"(i.e data/data.tsv) and run the code in order."
      ],
      "metadata": {
        "id": "8G2v-CSfR-Hk"
      }
    },
    {
      "cell_type": "code",
      "execution_count": 1,
      "metadata": {
        "id": "Hd5o4SUt-7Q0"
      },
      "outputs": [],
      "source": [
        "import sys\n",
        "import torch\n",
        "import torchtext\n",
        "from torchtext import data\n",
        "import torch.optim as optim\n",
        "import argparse\n",
        "import os\n",
        "import pandas as pd\n",
        "from sklearn.model_selection import train_test_split\n",
        "import torch.nn as nn\n",
        "import numpy as np\n",
        "import matplotlib.pyplot as plt\n",
        "import spacy\n",
        "from tabulate import tabulate"
      ]
    },
    {
      "cell_type": "code",
      "execution_count": 2,
      "metadata": {
        "id": "VgEB0hEh-87D"
      },
      "outputs": [],
      "source": [
        "# TextDataset is Described in Section 3.3 of Assignment 2\n",
        "class TextDataset(torch.utils.data.Dataset):\n",
        "    def __init__(self, vocab, split=\"train\"):\n",
        "        data_path = \"data\"\n",
        "        df = pd.read_csv(os.path.join(data_path, f\"{split}.tsv\"), sep=\"\\t\")\n",
        "\n",
        "        # X: torch.tensor (maxlen, batch_size), padded indices\n",
        "        # Y: torch.tensor of len N\n",
        "        X, Y = [], []\n",
        "        V = len(vocab.vectors)\n",
        "        for i, row in df.iterrows():\n",
        "            L = row[\"text\"].split()\n",
        "            X.append(torch.tensor([vocab.stoi.get(w, V-1) for w in L]))  # Use the last word in the vocab as the \"out-of-vocabulary\" token\n",
        "            Y.append(row.label)\n",
        "        self.X = X \n",
        "        self.Y = torch.tensor(Y)\n",
        "        \n",
        "    def __len__(self):\n",
        "        return len(self.X)\n",
        "\n",
        "    def __getitem__(self, idx):\n",
        "        return self.X[idx], self.Y[idx]"
      ]
    },
    {
      "cell_type": "code",
      "execution_count": 3,
      "metadata": {
        "id": "ibd7ThJP_A6C"
      },
      "outputs": [],
      "source": [
        "# my_collate_function prepares batches\n",
        "# it also pads each batch with zeroes.\n",
        "\n",
        "def my_collate_function(batch, device):\n",
        "    # Handle the padding here\n",
        "    # batch is approximately: [dataset[i] for i in range(0, batch_size)]\n",
        "    # Since the dataset[i]'s contents is defined in the __getitem__() above, this collate function \n",
        "    # should be set correspondingly.\n",
        "    # Also: collate_function just takes one argument. To pass in additional arguments (e.g., device), \n",
        "    # we need to wrap up an anonymous function (using lambda below)\n",
        "    batch_x, batch_y = [], []\n",
        "    max_len = 0\n",
        "    for x,y in batch:\n",
        "        batch_y.append(y)\n",
        "        max_len = max(max_len, len(x))\n",
        "    for x,y in batch:\n",
        "        x_p = torch.concat(\n",
        "            [x, torch.zeros(max_len - len(x))]\n",
        "        )\n",
        "        batch_x.append(x_p)\n",
        "    return torch.stack(batch_x).t().int().to(device), torch.tensor(batch_y).to(device)"
      ]
    },
    {
      "cell_type": "code",
      "source": [
        "def createDatasets(df):\n",
        "    train, test = train_test_split(df[['text', 'label']], test_size=0.2, random_state=0, stratify=df[['label']])\n",
        "\n",
        "    trainFinal, val = train_test_split(train, test_size=0.2, random_state=0, stratify=train['label'])\n",
        "\n",
        "    #writing to train, val and test tsv\n",
        "    trainFinal.to_csv('data/train.tsv', sep=\"\\t\", index=False)\n",
        "    test.to_csv('data/test.tsv', sep=\"\\t\", index=False)\n",
        "    val.to_csv('data/validation.tsv', sep=\"\\t\", index=False)\n",
        "\n",
        "    #creating overfit dataset and writing to tsv\n",
        "    s0 = trainFinal.label[df.label.eq(0)].sample(25).index\n",
        "    s1 = trainFinal.label[df.label.eq(1)].sample(25).index \n",
        "\n",
        "    overfit = trainFinal.loc[s0.union(s1)]\n",
        "    overfit.to_csv('data/overfit.tsv', sep=\"\\t\", index=False)\n"
      ],
      "metadata": {
        "id": "zxVVy95XCIwU"
      },
      "execution_count": 4,
      "outputs": []
    },
    {
      "cell_type": "code",
      "execution_count": 5,
      "metadata": {
        "id": "ANlIEnqSNxqX"
      },
      "outputs": [],
      "source": [
        "def print_closest_cosine_words(glove, vec, n=5):\n",
        "    cosine_words = []\n",
        "    dists = torch.cosine_similarity(vec, glove.vectors) \n",
        "    lst = sorted(enumerate(dists.detach().numpy()), key=lambda x: x[1], reverse=True)\n",
        "    for idx, difference in lst[1:n+1]:   \n",
        "        cosine_words.append(glove.itos[idx] + \" - %5.2f\" % difference)\n",
        "    return cosine_words"
      ]
    },
    {
      "cell_type": "code",
      "execution_count": 6,
      "metadata": {
        "id": "BXKBdLeM-2tF"
      },
      "outputs": [],
      "source": [
        "def main(batch_size):\n",
        "    torch.manual_seed(2)\n",
        "\n",
        "    device = torch.device('cuda' if torch.cuda.is_available() else 'cpu')\n",
        "    df = pd.read_csv(\"data/data.tsv\", sep='\\t')\n",
        "    createDatasets(df)\n",
        "    glove = torchtext.vocab.GloVe(name=\"6B\",dim=100) # embedding size = 100\n",
        "\n",
        "    train_dataset = TextDataset(glove, \"train\")\n",
        "    val_dataset = TextDataset(glove, \"validation\")\n",
        "    test_dataset = TextDataset(glove, \"test\")\n",
        "    overfit_dataset = TextDataset(glove, \"overfit\")\n",
        "        \n",
        "    # 3.3.3\n",
        "    train_dataloader = torch.utils.data.DataLoader(\n",
        "        dataset=train_dataset, \n",
        "        batch_size=batch_size, \n",
        "        shuffle=False, \n",
        "        collate_fn=lambda batch: my_collate_function(batch, device))\n",
        "    \n",
        "    validation_dataloader = torch.utils.data.DataLoader(\n",
        "        dataset=val_dataset, \n",
        "        batch_size=batch_size, \n",
        "        shuffle=False, \n",
        "        collate_fn=lambda batch: my_collate_function(batch, device))\n",
        "    \n",
        "    test_dataloader = torch.utils.data.DataLoader(\n",
        "        dataset=test_dataset,\n",
        "        batch_size=batch_size,\n",
        "        shuffle=False,\n",
        "        collate_fn=lambda batch: my_collate_function(batch, device))\n",
        "    \n",
        "    overfit_dataloader = torch.utils.data.DataLoader(\n",
        "        dataset=overfit_dataset,\n",
        "        batch_size=batch_size,\n",
        "        shuffle=False,\n",
        "        collate_fn=lambda batch: my_collate_function(batch, device))\n",
        "    \n",
        "    predictionCNNModel = trainCNNModel(train_dataloader, validation_dataloader,test_dataloader, overfit_dataloader, glove, 100, batch_size, 10, 0.001)\n",
        "    torch.save(predictionCNNModel, 'model_{}.pt'.format(\"CNN\"))\n",
        "    cvWeights = predictionCNNModel.conv2.weight\n",
        "    print(cvWeights.shape)\n",
        "    weight = torch.mean(torch.mean(cvWeights, 1), 1)[0]\n",
        "    print(weight.shape)\n",
        "    mydata = [\n",
        "        [\"CV2 layer weight\", [i for i in print_closest_cosine_words(glove, weight, n=5)]]\n",
        "    ]\n",
        "    # create header\n",
        "    head = [\"word\", \"Cosine Similarity\"]\n",
        "\n",
        "    # display table\n",
        "    print(tabulate(mydata, headers=head, tablefmt=\"grid\"))"
      ]
    },
    {
      "cell_type": "code",
      "execution_count": 7,
      "metadata": {
        "id": "GD3bgvRSAFCm"
      },
      "outputs": [],
      "source": [
        "class CNN(nn.Module):\n",
        "    def __init__(self, embedding_dim, vocab,n1=50,n2=50,k1=2,k2=4):\n",
        "        super(CNN, self).__init__()\n",
        "        self.embed_layer = nn.Embedding.from_pretrained(vocab.vectors,freeze=False)\n",
        "        self.conv1 = nn.Conv2d(1, n1, (k1, 100), 1, bias=False)\n",
        "        self.conv2 = nn.Conv2d(1, n2, (k2, 100), 1, bias=False)\n",
        "        self.activation = nn.ReLU()\n",
        "        self.fc1 = nn.Linear(n2*2, 1)\n",
        "\n",
        "    def forward(self, x):\n",
        "        length = len(x)\n",
        "        embed_result = self.embed_layer(x)\n",
        "        #print(embed_result.shape)\n",
        "        embed_result = embed_result.permute(1, 0, 2)\n",
        "        #print(embed_result.shape)\n",
        "        embed_result = embed_result.unsqueeze(1)\n",
        "        #print(embed_result.shape)\n",
        "\n",
        "        cnn1 = self.conv1(embed_result)\n",
        "        #print(cnn1.shape)\n",
        "        cnn2 = self.conv2(embed_result)\n",
        "        #print(cnn2.shape)\n",
        "\n",
        "        cnn1_activation = self.activation(cnn1)\n",
        "        #print(cnn1_activation.shape)\n",
        "        cnn1_activation = cnn1_activation.squeeze()\n",
        "        #print(cnn1_activation.shape)\n",
        "        cnn2_activation = self.activation(cnn2)\n",
        "        #print(cnn2_activation.shape)\n",
        "        cnn2_activation = cnn2_activation.squeeze()\n",
        "        #print(cnn2_activation.shape)\n",
        "\n",
        "        cnn1_maxpool = nn.functional.max_pool1d(cnn1_activation, int(length - 1))\n",
        "        #print(cnn1_maxpool.shape)\n",
        "        cnn2_maxpool = nn.functional.max_pool1d(cnn2_activation, int(length - 3))\n",
        "        #print(cnn2_maxpool.shape)\n",
        "\n",
        "        cnn1_result = cnn1_maxpool.squeeze()\n",
        "        #print(cnn1_result.shape)\n",
        "        cnn2_result = cnn2_maxpool.squeeze()\n",
        "        #print(cnn2_result.shape)\n",
        "\n",
        "        concat_result = torch.cat((cnn1_result, cnn2_result), 1)\n",
        "        #print(concat_result.shape)\n",
        "        prediction = self.fc1(concat_result)\n",
        "        #print(prediction.shape)\n",
        "        return prediction"
      ]
    },
    {
      "cell_type": "code",
      "execution_count": 8,
      "metadata": {
        "id": "sIUVjpv2F-8S"
      },
      "outputs": [],
      "source": [
        "def evaluate(model, dataLoader, criterion, batch_size):\n",
        "    model.eval()\n",
        "    with torch.no_grad():\n",
        "        test_loss = 0.0\n",
        "        total_corr = 0\n",
        "        p =0\n",
        "        for index,context in iter(dataLoader):\n",
        "            index = index.type(torch.long)\n",
        "            context = context.type(torch.float)\n",
        "            logits = model(index)\n",
        "            loss = criterion(logits.squeeze(1), context)\n",
        "            test_loss += float(loss)/batch_size\n",
        "            p += 1\n",
        "            corr = (logits > 0.5).squeeze().long() == context\n",
        "            total_corr += int(corr.sum())\n",
        "    return test_loss, total_corr, p"
      ]
    },
    {
      "cell_type": "code",
      "execution_count": 9,
      "metadata": {
        "id": "SNzui3XHaZfN"
      },
      "outputs": [],
      "source": [
        "from tqdm import tqdm\n",
        "def trainCNNModel(train_dataloader, validation_dataloader, test_dataloader, overfit_dataloader, vocab, embedding_size, batch_size, epochs, lr):\n",
        "    model = CNN(100, vocab)\n",
        "    criterion = torch.nn.BCEWithLogitsLoss()\n",
        "    opt_func = torch.optim.Adam\n",
        "    optimizer = opt_func(model.parameters(), lr)       \n",
        "\n",
        "    train_loss_list = []\n",
        "    val_loss_list = []\n",
        "    test_loss_list = []\n",
        "    overfit_loss_list = []\n",
        "    train_acc = []\n",
        "    val_acc = []\n",
        "    test_acc = []\n",
        "    overfit_acc = []\n",
        "\n",
        "    #train model using train set\n",
        "    iters = np.arange(0,epochs)\n",
        "    for epoch in range(epochs):\n",
        "        train_loss= 0.0\n",
        "        total_corr = 0\n",
        "        model.train()\n",
        "        n = 0\n",
        "        for index,context in tqdm(iter(train_dataloader)): \n",
        "            index = index.type(torch.long)\n",
        "            context = context.type(torch.float)\n",
        "            logits = model(index)\n",
        "            loss = criterion(logits.squeeze(1), context)\n",
        "            loss.backward()\n",
        "            optimizer.step()\n",
        "            optimizer.zero_grad()\n",
        "            train_loss = train_loss + float(loss)/batch_size\n",
        "            n += 1\n",
        "            corr = (logits > 0.5).squeeze().long() == context\n",
        "            total_corr += int(corr.sum())\n",
        "        train_loss_list.append(train_loss/n)\n",
        "        train_acc.append(float(total_corr) / len(train_dataloader.dataset))\n",
        "\n",
        "        #evaluate validation set\n",
        "        val_loss, total_corr, p = evaluate(model, validation_dataloader, criterion, batch_size)\n",
        "        val_loss_list.append(val_loss/p) \n",
        "        val_acc.append(float(total_corr) / len(validation_dataloader.dataset))\n",
        "\n",
        "        #evaluate test set\n",
        "        test_loss, total_corr, p = evaluate(model, test_dataloader, criterion, batch_size)\n",
        "        test_loss_list.append(test_loss/p) \n",
        "        test_acc.append(float(total_corr) / len(test_dataloader.dataset))\n",
        "\n",
        "        #evaluate overfit set\n",
        "        overfit_loss, total_corr, p = evaluate(model, overfit_dataloader, criterion, batch_size)\n",
        "        overfit_loss_list.append(overfit_loss/p) \n",
        "        overfit_acc.append(float(total_corr) / len(overfit_dataloader.dataset))\n",
        "\n",
        "    print(\"Validation Accuracy: \" + str(val_acc[-1]), \"Validation Loss: \" + str(val_loss_list[-1]))\n",
        "\n",
        "    print(\"Test Accuracy: \" + str(test_acc[-1]), \"Test Loss: \" + str(test_loss_list[-1]))\n",
        "    print(\"Overfit Accuracy: \" + str(overfit_acc[-1]), \"Overfit Loss: \" + str(overfit_loss_list[-1]))\n",
        "\n",
        "    #plot loss curve\n",
        "    plt.title(\"Loss Curve\")\n",
        "    plt.plot(iters, train_loss_list, label=\"Train\")\n",
        "    plt.plot(iters, val_loss_list, label=\"Validation\")\n",
        "    plt.plot(iters, overfit_loss_list, label=\"Overfit\")\n",
        "    plt.plot(iters, test_loss_list, label=\"Test\")\n",
        "    plt.xlabel(\"Epochs\")\n",
        "    plt.ylabel(\"Loss\")\n",
        "    plt.legend()\n",
        "    plt.show()\n",
        "\n",
        "    #plot Accuracy curve\n",
        "    plt.title(\"Accuracy Curve\")\n",
        "    plt.plot(iters, train_acc, label=\"Train accuracy\")\n",
        "    plt.plot(iters, val_acc, label=\"Validation accuracy\")\n",
        "    plt.plot(iters, overfit_acc, label=\"Overfit accuracy\")\n",
        "    plt.plot(iters, test_acc, label=\"Test accuracy\")\n",
        "    plt.xlabel(\"Epochs\")\n",
        "    plt.ylabel(\"Accuracy\")\n",
        "    plt.legend()\n",
        "    plt.show()\n",
        "    \n",
        "    return model"
      ]
    },
    {
      "cell_type": "code",
      "execution_count": 10,
      "metadata": {
        "colab": {
          "base_uri": "https://localhost:8080/",
          "height": 966
        },
        "id": "kqi2bNOD_LXg",
        "outputId": "8c815f50-1f90-4c00-fdcc-41bbf1a2c70d"
      },
      "outputs": [
        {
          "output_type": "stream",
          "name": "stderr",
          "text": [
            ".vector_cache/glove.6B.zip: 862MB [02:39, 5.39MB/s]                           \n",
            "100%|█████████▉| 399999/400000 [00:18<00:00, 21512.99it/s]\n",
            "100%|██████████| 640/640 [05:43<00:00,  1.86it/s]\n",
            "100%|██████████| 640/640 [05:39<00:00,  1.89it/s]\n",
            "100%|██████████| 640/640 [05:39<00:00,  1.88it/s]\n",
            "100%|██████████| 640/640 [05:43<00:00,  1.86it/s]\n",
            "100%|██████████| 640/640 [05:40<00:00,  1.88it/s]\n",
            "100%|██████████| 640/640 [05:43<00:00,  1.86it/s]\n",
            "100%|██████████| 640/640 [05:53<00:00,  1.81it/s]\n",
            "100%|██████████| 640/640 [05:50<00:00,  1.82it/s]\n",
            "100%|██████████| 640/640 [05:48<00:00,  1.84it/s]\n",
            "100%|██████████| 640/640 [05:49<00:00,  1.83it/s]\n"
          ]
        },
        {
          "output_type": "stream",
          "name": "stdout",
          "text": [
            "Validation Accuracy: 0.921875 Validation Loss: 0.03124573850447831\n",
            "Test Accuracy: 0.921 Test Loss: 0.032401702633450206\n",
            "Overfit Accuracy: 1.0 Overfit Loss: 1.621095812879503e-05\n"
          ]
        },
        {
          "output_type": "display_data",
          "data": {
            "text/plain": [
              "<Figure size 432x288 with 1 Axes>"
            ],
            "image/png": "[encoded data removed]"
          },
          "metadata": {
            "needs_background": "light"
          }
        },
        {
          "output_type": "display_data",
          "data": {
            "text/plain": [
              "<Figure size 432x288 with 1 Axes>"
            ],
            "image/png": "[encoded data removed]"
          },
          "metadata": {
            "needs_background": "light"
          }
        },
        {
          "output_type": "stream",
          "name": "stdout",
          "text": [
            "torch.Size([50, 1, 4, 100])\n",
            "torch.Size([100])\n",
            "+------------------+--------------------------------------------------------------------------------------------------------+\n",
            "| word             | Cosine Similarity                                                                                      |\n",
            "+==================+========================================================================================================+\n",
            "| CV2 layer weight | ['recruited -  0.45', 'flees -  0.44', 'kidnapped -  0.44', 'imprisoned -  0.44', 'discovers -  0.44'] |\n",
            "+------------------+--------------------------------------------------------------------------------------------------------+\n"
          ]
        }
      ],
      "source": [
        "if __name__ == '__main__':\n",
        "    main(10)"
      ]
    }
  ],
  "metadata": {
    "colab": {
      "provenance": [],
      "collapsed_sections": []
    },
    "kernelspec": {
      "display_name": "Python 3",
      "name": "python3"
    },
    "language_info": {
      "name": "python"
    }
  },
  "nbformat": 4,
  "nbformat_minor": 0
}
